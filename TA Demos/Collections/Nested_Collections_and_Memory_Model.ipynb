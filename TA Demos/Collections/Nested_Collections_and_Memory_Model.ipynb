{
 "cells": [
  {
   "cell_type": "markdown",
   "metadata": {},
   "source": [
    "#### LE/EECS 1015: Collections III Examples"
   ]
  },
  {
   "cell_type": "code",
   "execution_count": 55,
   "metadata": {},
   "outputs": [],
   "source": [
    "from random import randrange\n",
    "from typing import List\n",
    "import copy\n",
    "\n",
    "one_dimensional_list = [randrange(1, 10) for x in range(10)]\n",
    "\n",
    "two_dimensional_list = [\n",
    "    [1],\n",
    "    [1, 2],\n",
    "    [1, 2, 3],\n",
    "    [1, 2, 3, 4]\n",
    "]"
   ]
  },
  {
   "cell_type": "markdown",
   "metadata": {},
   "source": [
    "##### Memory Model (Shallow vs Deep Copy)"
   ]
  },
  {
   "cell_type": "code",
   "execution_count": null,
   "metadata": {},
   "outputs": [],
   "source": [
    "copy_a = one_dimensional_list.copy()\n",
    "print(f'orig list: {one_dimensional_list}\\ncopy list: {copy_a}\\n')\n",
    "# Change index of original \n",
    "one_dimensional_list[0] = 80\n",
    "print(f'orig list: {one_dimensional_list}\\ncopy list: {copy_a}\\n')\n",
    "# Change index of copy\n",
    "copy_a[0] = 100\n",
    "print(f'orig list: {one_dimensional_list}\\ncopy list: {copy_a}\\n')"
   ]
  },
  {
   "cell_type": "code",
   "execution_count": null,
   "metadata": {},
   "outputs": [],
   "source": [
    "copy_b = two_dimensional_list.copy()\n",
    "print(f'orig list: {two_dimensional_list}\\ncopy list: {copy_b}\\n')\n",
    "# Change index of copy \n",
    "copy_b[0][0] = 100\n",
    "print(f'orig list: {two_dimensional_list}\\ncopy list: {copy_b}\\n')"
   ]
  },
  {
   "cell_type": "code",
   "execution_count": null,
   "metadata": {},
   "outputs": [],
   "source": [
    "deep_copy = copy.deepcopy(two_dimensional_list)\n",
    "# Change the deep copy \n",
    "deep_copy[0][0] = 100 \n",
    "print(f'orig list: {two_dimensional_list}\\ncopy list: {deep_copy}\\n')"
   ]
  },
  {
   "cell_type": "markdown",
   "metadata": {},
   "source": [
    "##### Nested Loops"
   ]
  },
  {
   "cell_type": "code",
   "execution_count": null,
   "metadata": {},
   "outputs": [],
   "source": [
    "\"\"\"\n",
    "Here we provide two ways to sum the two-dimension Lists:\n",
    "    1) By variable names \n",
    "    2) By numerical indices\n",
    "\"\"\"\n",
    "\n",
    "def calculate_sum_2d_by_names(numbers: List[List]) -> float:\n",
    "    sum = 0\n",
    "    for row in numbers:\n",
    "        for number in row:\n",
    "            sum += number\n",
    "    return sum\n",
    "\n",
    "def calculate_sum_2d_by_indexing(numbers: List[List]) -> float:\n",
    "    sum = 0\n",
    "    for i in range(len(numbers)):\n",
    "        for j in range(len(numbers[i])):\n",
    "            sum += numbers[i][j]\n",
    "    return sum\n",
    "\n",
    "print(two_dimensional_list)\n",
    "print(f'The sum of the two-dimensional list using variable names: {calculate_sum_2d_by_names(two_dimensional_list)}')\n",
    "print(f'The sum of the two-dimensional list using integer indices: {calculate_sum_2d_by_indexing(two_dimensional_list)}')"
   ]
  },
  {
   "cell_type": "code",
   "execution_count": null,
   "metadata": {},
   "outputs": [],
   "source": [
    "def calculate_vertical_sum(input: List[List]) -> List[int]:\n",
    "    if len(input) > 1:\n",
    "        # Get length of maximum row\n",
    "        max_length = max(len(x) for x in input)\n",
    "        # Pad with zeros if necessary\n",
    "        for entry in input:\n",
    "            entry += [0 for i in range(max_length - len(entry))]\n",
    "        # Iterate Column by Column for sum\n",
    "        sol = []\n",
    "        for i in range(max_length):\n",
    "            sum = 0 \n",
    "            for j in range(len(input)):\n",
    "                sum += input[j][i]\n",
    "            sol.append(sum)\n",
    "        return sol\n",
    "    return input[0]\n",
    "\n",
    "\n",
    "a = [\n",
    "    [1, 2],\n",
    "    [3, 4, 5],\n",
    "    [1],\n",
    "    [1, 2, 3, 4, 5]\n",
    "]\n",
    "\n",
    "b = [[1, 2, 3, 4]]\n",
    "\n",
    "c = [\n",
    "    [1, 2],\n",
    "    [3, 4, 5]\n",
    "]\n",
    "\n",
    "# HOMEWORK: How can this be done without padding 0's in the memory?\n",
    "calculate_vertical_sum(c)"
   ]
  }
 ],
 "metadata": {
  "kernelspec": {
   "display_name": "base",
   "language": "python",
   "name": "python3"
  },
  "language_info": {
   "codemirror_mode": {
    "name": "ipython",
    "version": 3
   },
   "file_extension": ".py",
   "mimetype": "text/x-python",
   "name": "python",
   "nbconvert_exporter": "python",
   "pygments_lexer": "ipython3",
   "version": "3.12.7"
  }
 },
 "nbformat": 4,
 "nbformat_minor": 2
}
