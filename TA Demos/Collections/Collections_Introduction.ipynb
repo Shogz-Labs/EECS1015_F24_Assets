{
 "cells": [
  {
   "cell_type": "markdown",
   "metadata": {},
   "source": [
    "#### LE/EECS 1015: Lecture 9 Collections Examples"
   ]
  },
  {
   "cell_type": "code",
   "execution_count": 11,
   "metadata": {},
   "outputs": [],
   "source": [
    "# Add imports to add type hinting into our method signatures\n",
    "from typing import List\n",
    "from typing import Set\n",
    "# from typing import Tuple \n",
    "# from typing import Dict"
   ]
  },
  {
   "cell_type": "markdown",
   "metadata": {},
   "source": [
    "#### List"
   ]
  },
  {
   "cell_type": "code",
   "execution_count": null,
   "metadata": {},
   "outputs": [],
   "source": [
    "import doctest\n",
    "def generate_parabola(n: int, stretch: float) -> List[set]:\n",
    "    \"\"\"\n",
    "    Generate the first 2n points of the parabola: y = (stretch * x) ** 2.\n",
    "    We are assuming symmetry and thus it is required that n >= 0\n",
    "\n",
    "    >>> generate_parabola(5, 1)\n",
    "    [(-5, 25), (-4, 16), (-3, 9), (-2, 4), (-1, 1), (0, 0), (1, 1), (2, 4), (3, 9), (4, 16), (5, 25)]\n",
    "    \"\"\"\n",
    "\n",
    "    assert n >= 0 and type(n) == int, 'n must be a postive integer'\n",
    "    points = list()\n",
    "    for i in range(-n, n + 1):\n",
    "        points.append((i, i ** 2))\n",
    "    return points\n",
    "\n",
    "doctest.testmod()"
   ]
  },
  {
   "cell_type": "code",
   "execution_count": null,
   "metadata": {},
   "outputs": [],
   "source": [
    "def search_guest_list(guests: List[str], target) -> bool:\n",
    "    return any(i == target for i in guests)\n",
    "\n",
    "search_guest_list(['Hayley Williams', 'Lucyna Kushinada', 'David Martinez', 'Bruno Mars', 'Hatsune Miku'], 'Shogz')"
   ]
  },
  {
   "cell_type": "markdown",
   "metadata": {},
   "source": [
    "#### Dictionary"
   ]
  },
  {
   "cell_type": "code",
   "execution_count": null,
   "metadata": {},
   "outputs": [],
   "source": [
    "employee_ids = {\n",
    "    'billybob1': ['John Doe', 19, 'Salesman', 80000],\n",
    "    'jensen' : ['Peter Framptom', 74, 'Guitarist', 100000],\n",
    "    'potter' : ['Hayley Williams', 35, 'Singer', 120000],\n",
    "    'cookiemonster' : ['Bruno Mars', 39, 'Singer', 125000]\n",
    "}\n",
    "\n",
    "for employee in employee_ids:\n",
    "    name, age, role, salary = employee_ids[employee]\n",
    "    summary = f\"\"\"\n",
    "    Employee ID: {employee}\n",
    "    Full Name: {name}\n",
    "    Age: {age}\n",
    "    Company Role: {role}\n",
    "    Salary: {salary}\n",
    "    \"\"\"\n",
    "    print(summary)"
   ]
  },
  {
   "cell_type": "markdown",
   "metadata": {},
   "source": [
    "#### Set"
   ]
  },
  {
   "cell_type": "code",
   "execution_count": null,
   "metadata": {},
   "outputs": [],
   "source": [
    "a = set()\n",
    "b = set()\n",
    "for i in range(1, 101):\n",
    "    a.add(i if i % 3 == 0 else i * i)\n",
    "    b.add(i if i % 5 == 0 else i % 5)\n",
    "print(f'a = {a}')\n",
    "print(f'b = {b}')"
   ]
  },
  {
   "cell_type": "markdown",
   "metadata": {},
   "source": [
    "#### Tuples"
   ]
  },
  {
   "cell_type": "code",
   "execution_count": null,
   "metadata": {},
   "outputs": [],
   "source": [
    "a = ((1,2), (3,4))\n",
    "b = ((5, 6), (7, 8))\n",
    "\n",
    "c = a + b\n",
    "for index in range(len(c)):\n",
    "    print(f'Index: c[{index}]: {c[index]}')\n",
    "\n",
    "print('-----')\n",
    "print(f'a = {a}')\n",
    "print(f'a * 2 = {a * 2}')\n",
    "print(f'(a * 2).count((1,2)) = {(a * 2).count((1,2))}')"
   ]
  }
 ],
 "metadata": {
  "kernelspec": {
   "display_name": "base",
   "language": "python",
   "name": "python3"
  },
  "language_info": {
   "codemirror_mode": {
    "name": "ipython",
    "version": 3
   },
   "file_extension": ".py",
   "mimetype": "text/x-python",
   "name": "python",
   "nbconvert_exporter": "python",
   "pygments_lexer": "ipython3",
   "version": "3.12.7"
  }
 },
 "nbformat": 4,
 "nbformat_minor": 2
}
