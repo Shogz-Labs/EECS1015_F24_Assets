{
 "cells": [
  {
   "cell_type": "markdown",
   "metadata": {},
   "source": [
    "#### Classes and Objects: Tutorial"
   ]
  },
  {
   "cell_type": "code",
   "execution_count": 1,
   "metadata": {},
   "outputs": [],
   "source": [
    "from typing import List\n",
    "\n",
    "class Champion:\n",
    "    # constructor\n",
    "    def __init__(self, name: str, abilities: List[str], quote: str, attack_damage: int) -> None:\n",
    "        self._name = name\n",
    "        self._abilities = abilities\n",
    "        self._quote = quote\n",
    "        self._attack_damage = attack_damage\n",
    "    \n",
    "    # getters\n",
    "    def get_name(self) -> str:\n",
    "        return self._name\n",
    "\n",
    "    def get_abilities(self) -> List[str]:\n",
    "        return self._abilities\n",
    "\n",
    "    def get_quote(self) -> str:\n",
    "        return self._quote  \n",
    "    \n",
    "    def get_attack_damage(self) -> int:\n",
    "        return self._attack_damage\n",
    "      \n",
    "    # setters\n",
    "    def set_name(self, name: str) -> None:\n",
    "        self._name = name\n",
    "\n",
    "    def set_abilities(self, abilities: List[str]) -> None:\n",
    "        self._abilities = abilities\n",
    "\n",
    "    def set_quote(self, quote: str) -> None:\n",
    "        self._quote = quote\n",
    "    \n",
    "    def set_attack_damage(self, attack_damage: int) -> None:\n",
    "        self._attack_damage = attack_damage\n",
    "    \n",
    "    # Custom Methods\n",
    "    def print_summary(self) -> None:\n",
    "        print(f'Name: {self.get_name}')\n",
    "        print(f'Quote: {self.get_quote}')\n",
    "        print('----- Abilities -----')\n",
    "        abilities = self.get_abilities()\n",
    "        for i in range(4):\n",
    "            print(f'\\tAbility {i + 1}: {abilities[i]}')\n",
    "        print(f'Attack Damage: {self.get_attack_damage()}')\n",
    "    \n",
    "    # Python Support (Recall the special methods....)\n",
    "    def __eq__(self, other):\n",
    "        if type(other) == Champion:\n",
    "            return (self.get_name() == other.get_name()) and (self.get_quote() == other.get_quote() and all(self.get_abilities()[i] == other.get_abilities()[i] for i in range(4)) and (self.get_attack_damage() == other.get_attack_damage()))\n",
    "        return False\n",
    "    \n",
    "    def __gt__(self, other):\n",
    "        if type(other) == Champion:\n",
    "            return self.get_attack_damage() > other.get_attack_damage()\n",
    "        return False\n",
    "    \n"
   ]
  },
  {
   "cell_type": "code",
   "execution_count": 2,
   "metadata": {},
   "outputs": [],
   "source": [
    "Vayne = Champion('Vayne (Shauna)', ['Tumble', 'Siler Bolts', 'Condemn', 'Final Hour'], 'Hitting me is like boxing with shadows', 475)\n",
    "Bayne = Champion('Bayne', ['Tumbling', 'Siler Boltz', 'Condemns', 'Final Minutes'], 'Hitting me is like boxing with the void!!!!', 575)"
   ]
  },
  {
   "cell_type": "code",
   "execution_count": null,
   "metadata": {},
   "outputs": [],
   "source": [
    "Vayne == Bayne"
   ]
  },
  {
   "cell_type": "code",
   "execution_count": null,
   "metadata": {},
   "outputs": [],
   "source": [
    "Bayne > Vayne"
   ]
  }
 ],
 "metadata": {
  "kernelspec": {
   "display_name": "base",
   "language": "python",
   "name": "python3"
  },
  "language_info": {
   "codemirror_mode": {
    "name": "ipython",
    "version": 3
   },
   "file_extension": ".py",
   "mimetype": "text/x-python",
   "name": "python",
   "nbconvert_exporter": "python",
   "pygments_lexer": "ipython3",
   "version": "3.12.7"
  }
 },
 "nbformat": 4,
 "nbformat_minor": 2
}
