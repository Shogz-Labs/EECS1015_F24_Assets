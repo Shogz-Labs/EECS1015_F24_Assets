{
 "cells": [
  {
   "cell_type": "markdown",
   "metadata": {},
   "source": [
    "## LE/EECS 1015 - Supplementary Materials (Modules & Function Call II)\n",
    "\n",
    "In this notebook, we aim to play with the ```math``` module. \n",
    "This notebook is aimed to supplement the slides that we cover in the lab. \n",
    "\n",
    "If you encounter any problems, please feel free to reach out to me :) "
   ]
  },
  {
   "cell_type": "markdown",
   "metadata": {},
   "source": [
    "### Math Module \n",
    "#### Functions\n",
    "1. math.ceil(x, /) $\\rightarrow$ Returns the ceiling of $x$ as an Integral. In short, it rounds the number up to the nearest integer.\n",
    "2. math.floor(x, /) $\\rightarrow$ Returns the floor of $x$ as an Integral. In short, it rounds down to the nearest integer.\n",
    "3. math.sin(x, /) $\\rightarrow$ Returns the sine of $x$ **(Measured in Radians)**\n",
    "4. math.cos(x, /) $\\rightarrow$ Returns the cosine of $x$ **(Measured in Radians)**\n",
    "5. math.tan(x, /) $\\rightarrow$ Returns the tangent of $x$ **(Measured in Radians)**\n",
    "6. math.degrees(x, /) $\\rightarrow$ Converts angle $x$ from radians to degrees.\n",
    "7. math.radians(x, /) $\\rightarrow$ Converts angle $x$ from degrees to radians.\n",
    "8. math.exp(x, /) $\\rightarrow$ Returns $e^x$\n",
    "9. math.exp2(x, /) $\\rightarrow$ Returns $2^x$\n",
    "10. math.factorial(x, /) $\\rightarrow$ Returns $n!$ if and only if $x \\geq 0$ and ```type(x) == int```\n",
    "11. math.log(x, b) $\\rightarrow$ Returns $\\log_b(x)$\n",
    "12. math.log10(x, /) $\\rightarrow$ Returns $\\log_{10}(x)$\n",
    "13. math.pow(x, y, /) $\\rightarrow$ Returns $x^y \\equiv x ** y$\n",
    "14. math.sqrt(x, /) $\\rightarrow$ Returns $\\sqrt{x}$\n",
    "\n",
    "#### Constants\n",
    "1. math.e $\\equiv e$ \n",
    "2. math.pi $\\equiv \\pi$ \n",
    "3. math.inf $\\rightarrow$ Returns a floating-point positive infinity value."
   ]
  },
  {
   "cell_type": "markdown",
   "metadata": {},
   "source": [
    "### Random Module \n",
    "#### Functions\n",
    "1. random.normalvariate(mu=0.0, sigma=1.0) $\\rightarrow$ Returns a random float which is sampled from a Normal Distribution. \n",
    "2. random.randint(a, b) $\\rightarrow$ Returns a random integer $r \\in [a, b]$\n",
    "3. random.randrange(start, stop=None, step=1) $\\rightarrow$ Chooses a random item from $[start, stop - 1]$, given a step value.\n",
    "4. random.random() $\\rightarrow$ Returns $x \\in [0, 1)$.\n",
    "5. random.uniform(a, b) $\\rightarrow$ Gets a random number in the range $[a, b)$ or $[a, b]$ depending on the rounding."
   ]
  },
  {
   "cell_type": "code",
   "execution_count": 75,
   "metadata": {},
   "outputs": [],
   "source": [
    "# Import the modules into our runtime environment :)\n",
    "import math \n",
    "import random"
   ]
  },
  {
   "cell_type": "code",
   "execution_count": 76,
   "metadata": {},
   "outputs": [],
   "source": [
    "def roll_doubles() -> bool:\n",
    "    dice_one = random.randint(1, 6)\n",
    "    dice_two = random.randint(1, 6)\n",
    "    print(f\"Dice 1: {dice_one}\\nDice 2: {dice_two}\\n{\"I can't stop winning!\" if dice_one == dice_two else \"Aww, Dang it!\"}\")\n",
    "    return dice_one == dice_two"
   ]
  },
  {
   "cell_type": "code",
   "execution_count": 85,
   "metadata": {},
   "outputs": [],
   "source": [
    "def generate_sine_table() -> None:\n",
    "    for i in range(-180, 270, 90):\n",
    "        print(f\"sin({i} deg) = {round(math.sin(math.radians(i)))}\")"
   ]
  },
  {
   "cell_type": "markdown",
   "metadata": {},
   "source": [
    "## Samples"
   ]
  },
  {
   "cell_type": "code",
   "execution_count": 86,
   "metadata": {},
   "outputs": [
    {
     "name": "stdout",
     "output_type": "stream",
     "text": [
      "Dice 1: 3\n",
      "Dice 2: 1\n",
      "Aww, Dang it!\n",
      "Dice 1: 1\n",
      "Dice 2: 1\n",
      "I can't stop winning!\n"
     ]
    }
   ],
   "source": [
    "rolled_doubles = False\n",
    "while not rolled_doubles:\n",
    "    rolled_doubles = roll_doubles()\n"
   ]
  },
  {
   "cell_type": "code",
   "execution_count": 89,
   "metadata": {},
   "outputs": [
    {
     "name": "stdout",
     "output_type": "stream",
     "text": [
      "sin(-180 deg) = 0\n",
      "sin(-90 deg) = -1\n",
      "sin(0 deg) = 0\n",
      "sin(90 deg) = 1\n",
      "sin(180 deg) = 0\n"
     ]
    }
   ],
   "source": [
    "generate_sine_table()"
   ]
  }
 ],
 "metadata": {
  "kernelspec": {
   "display_name": "base",
   "language": "python",
   "name": "python3"
  },
  "language_info": {
   "codemirror_mode": {
    "name": "ipython",
    "version": 3
   },
   "file_extension": ".py",
   "mimetype": "text/x-python",
   "name": "python",
   "nbconvert_exporter": "python",
   "pygments_lexer": "ipython3",
   "version": "3.12.4"
  }
 },
 "nbformat": 4,
 "nbformat_minor": 2
}
